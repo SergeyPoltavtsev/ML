{
 "nbformat": 4,
 "nbformat_minor": 2,
 "metadata": {
  "language_info": {
   "name": "python",
   "codemirror_mode": {
    "name": "ipython",
    "version": 3
   },
   "version": "3.7.5-final"
  },
  "orig_nbformat": 2,
  "file_extension": ".py",
  "mimetype": "text/x-python",
  "name": "python",
  "npconvert_exporter": "python",
  "pygments_lexer": "ipython3",
  "version": 3,
  "kernelspec": {
   "name": "python37564bitfastaicondaf660b7e20e5640c48215b39dc8db95f4",
   "display_name": "Python 3.7.5 64-bit ('fastai': conda)"
  }
 },
 "cells": [
  {
   "cell_type": "code",
   "execution_count": 1,
   "metadata": {},
   "outputs": [],
   "source": [
    "import torch\n",
    "import torchvision\n",
    "import torch.nn as nn\n",
    "import torch.nn.functional as F\n",
    "import torchvision.transforms as transforms\n",
    "import torch.optim as optim\n",
    "\n",
    "import matplotlib.pyplot as plt\n",
    "import numpy as np\n",
    "%matplotlib inline"
   ]
  },
  {
   "cell_type": "code",
   "execution_count": 2,
   "metadata": {},
   "outputs": [
    {
     "name": "stdout",
     "output_type": "stream",
     "text": "cuda:0\n"
    }
   ],
   "source": [
    "device = torch.device(\"cuda:0\" if torch.cuda.is_available() else \"cpu\")\n",
    "\n",
    "# Assuming that we are on a CUDA machine, this should print a CUDA device:\n",
    "\n",
    "print(device)"
   ]
  },
  {
   "cell_type": "code",
   "execution_count": 3,
   "metadata": {},
   "outputs": [],
   "source": [
    "transform = transforms.Compose([transforms.ToTensor()])\n",
    "\n",
    "trainset = torchvision.datasets.MNIST(root='./data', train=True, download=True, transform=transform)\n",
    "trainloader = torch.utils.data.DataLoader(trainset, batch_size=10, shuffle=True, num_workers=4)\n",
    "\n",
    "testset = torchvision.datasets.MNIST(root='./data', train=False, download=True, transform=transform)\n",
    "testloader = torch.utils.data.DataLoader(testset, batch_size=10, shuffle=False, num_workers=4)"
   ]
  },
  {
   "cell_type": "code",
   "execution_count": 4,
   "metadata": {},
   "outputs": [],
   "source": [
    "# get some random training images\n",
    "dataiter = iter(trainloader)\n",
    "images, labels = dataiter.next()"
   ]
  },
  {
   "cell_type": "code",
   "execution_count": 5,
   "metadata": {},
   "outputs": [],
   "source": [
    "def imshow(img):\n",
    "    npimg = img.numpy()\n",
    "    plt.imshow(np.transpose(npimg, (1, 2, 0)))\n",
    "    plt.show()"
   ]
  },
  {
   "cell_type": "code",
   "execution_count": 6,
   "metadata": {},
   "outputs": [
    {
     "data": {
      "image/png": "[encoded data removed]",
      "image/svg+xml": "<?xml version=\"1.0\" encoding=\"utf-8\" standalone=\"no\"?>\r\n<!DOCTYPE svg PUBLIC \"-//W3C//DTD SVG 1.1//EN\"\r\n  \"http://www.w3.org/Graphics/SVG/1.1/DTD/svg11.dtd\">\r\n<!-- Created with matplotlib (https://matplotlib.org/) -->\r\n<svg height=\"119.960815pt\" version=\"1.1\" viewBox=\"0 0 368.925 119.960815\" width=\"368.925pt\" xmlns=\"http://www.w3.org/2000/svg\" xmlns:xlink=\"http://www.w3.org/1999/xlink\">\r\n <defs>\r\n  <style type=\"text/css\">\r\n*{stroke-linecap:butt;stroke-linejoin:round;}\r\n  </style>\r\n </defs>\r\n <g id=\"figure_1\">\r\n  <g id=\"patch_1\">\r\n   <path d=\"M -0 119.960815 \r\nL 368.925 119.960815 \r\nL 368.925 0 \r\nL -0 0 \r\nz\r\n\" style=\"fill:none;\"/>\r\n  </g>\r\n  <g id=\"axes_1\">\r\n   <g id=\"patch_2\">\r\n    <path d=\"M 26.925 96.08269 \r\nL 361.725 96.08269 \r\nL 361.725 10.307483 \r\nL 26.925 10.307483 \r\nz\r\n\" style=\"fill:#ffffff;\"/>\r\n   </g>\r\n   <g clip-path=\"url(#p1cb311acda)\">\r\n    <image height=\"86\" id=\"image5426a2169f\" transform=\"scale(1 -1)translate(0 -86)\" width=\"335\" x=\"26.925\" xlink:href=\"data:image/png;base64,\r\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\" y=\"-10.08269\"/>\r\n   </g>\r\n   <g id=\"matplotlib.axis_1\">\r\n    <g id=\"xtick_1\">\r\n     <g id=\"line2d_1\">\r\n      <defs>\r\n       <path d=\"M 0 0 \r\nL 0 3.5 \r\n\" id=\"m0760be7152\" style=\"stroke:#000000;stroke-width:0.8;\"/>\r\n      </defs>\r\n      <g>\r\n       <use style=\"stroke:#000000;stroke-width:0.8;\" x=\"27.616736\" xlink:href=\"#m0760be7152\" y=\"96.08269\"/>\r\n      </g>\r\n     </g>\r\n     <g id=\"text_1\">\r\n      <!-- 0 -->\r\n      <defs>\r\n       <path d=\"M 31.78125 66.40625 \r\nQ 24.171875 66.40625 20.328125 58.90625 \r\nQ 16.5 51.421875 16.5 36.375 \r\nQ 16.5 21.390625 20.328125 13.890625 \r\nQ 24.171875 6.390625 31.78125 6.390625 \r\nQ 39.453125 6.390625 43.28125 13.890625 \r\nQ 47.125 21.390625 47.125 36.375 \r\nQ 47.125 51.421875 43.28125 58.90625 \r\nQ 39.453125 66.40625 31.78125 66.40625 \r\nz\r\nM 31.78125 74.21875 \r\nQ 44.046875 74.21875 50.515625 64.515625 \r\nQ 56.984375 54.828125 56.984375 36.375 \r\nQ 56.984375 17.96875 50.515625 8.265625 \r\nQ 44.046875 -1.421875 31.78125 -1.421875 \r\nQ 19.53125 -1.421875 13.0625 8.265625 \r\nQ 6.59375 17.96875 6.59375 36.375 \r\nQ 6.59375 54.828125 13.0625 64.515625 \r\nQ 19.53125 74.21875 31.78125 74.21875 \r\nz\r\n\" id=\"DejaVuSans-48\"/>\r\n      </defs>\r\n      <g transform=\"translate(24.435486 110.681127)scale(0.1 -0.1)\">\r\n       <use xlink:href=\"#DejaVuSans-48\"/>\r\n      </g>\r\n     </g>\r\n    </g>\r\n    <g id=\"xtick_2\">\r\n     <g id=\"line2d_2\">\r\n      <g>\r\n       <use style=\"stroke:#000000;stroke-width:0.8;\" x=\"96.790289\" xlink:href=\"#m0760be7152\" y=\"96.08269\"/>\r\n      </g>\r\n     </g>\r\n     <g id=\"text_2\">\r\n      <!-- 50 -->\r\n      <defs>\r\n       <path d=\"M 10.796875 72.90625 \r\nL 49.515625 72.90625 \r\nL 49.515625 64.59375 \r\nL 19.828125 64.59375 \r\nL 19.828125 46.734375 \r\nQ 21.96875 47.46875 24.109375 47.828125 \r\nQ 26.265625 48.1875 28.421875 48.1875 \r\nQ 40.625 48.1875 47.75 41.5 \r\nQ 54.890625 34.8125 54.890625 23.390625 \r\nQ 54.890625 11.625 47.5625 5.09375 \r\nQ 40.234375 -1.421875 26.90625 -1.421875 \r\nQ 22.3125 -1.421875 17.546875 -0.640625 \r\nQ 12.796875 0.140625 7.71875 1.703125 \r\nL 7.71875 11.625 \r\nQ 12.109375 9.234375 16.796875 8.0625 \r\nQ 21.484375 6.890625 26.703125 6.890625 \r\nQ 35.15625 6.890625 40.078125 11.328125 \r\nQ 45.015625 15.765625 45.015625 23.390625 \r\nQ 45.015625 31 40.078125 35.4375 \r\nQ 35.15625 39.890625 26.703125 39.890625 \r\nQ 22.75 39.890625 18.8125 39.015625 \r\nQ 14.890625 38.140625 10.796875 36.28125 \r\nz\r\n\" id=\"DejaVuSans-53\"/>\r\n      </defs>\r\n      <g transform=\"translate(90.427789 110.681127)scale(0.1 -0.1)\">\r\n       <use xlink:href=\"#DejaVuSans-53\"/>\r\n       <use x=\"63.623047\" xlink:href=\"#DejaVuSans-48\"/>\r\n      </g>\r\n     </g>\r\n    </g>\r\n    <g id=\"xtick_3\">\r\n     <g id=\"line2d_3\">\r\n      <g>\r\n       <use style=\"stroke:#000000;stroke-width:0.8;\" x=\"165.963843\" xlink:href=\"#m0760be7152\" y=\"96.08269\"/>\r\n      </g>\r\n     </g>\r\n     <g id=\"text_3\">\r\n      <!-- 100 -->\r\n      <defs>\r\n       <path d=\"M 12.40625 8.296875 \r\nL 28.515625 8.296875 \r\nL 28.515625 63.921875 \r\nL 10.984375 60.40625 \r\nL 10.984375 69.390625 \r\nL 28.421875 72.90625 \r\nL 38.28125 72.90625 \r\nL 38.28125 8.296875 \r\nL 54.390625 8.296875 \r\nL 54.390625 0 \r\nL 12.40625 0 \r\nz\r\n\" id=\"DejaVuSans-49\"/>\r\n      </defs>\r\n      <g transform=\"translate(156.420093 110.681127)scale(0.1 -0.1)\">\r\n       <use xlink:href=\"#DejaVuSans-49\"/>\r\n       <use x=\"63.623047\" xlink:href=\"#DejaVuSans-48\"/>\r\n       <use x=\"127.246094\" xlink:href=\"#DejaVuSans-48\"/>\r\n      </g>\r\n     </g>\r\n    </g>\r\n    <g id=\"xtick_4\">\r\n     <g id=\"line2d_4\">\r\n      <g>\r\n       <use style=\"stroke:#000000;stroke-width:0.8;\" x=\"235.137397\" xlink:href=\"#m0760be7152\" y=\"96.08269\"/>\r\n      </g>\r\n     </g>\r\n     <g id=\"text_4\">\r\n      <!-- 150 -->\r\n      <g transform=\"translate(225.593647 110.681127)scale(0.1 -0.1)\">\r\n       <use xlink:href=\"#DejaVuSans-49\"/>\r\n       <use x=\"63.623047\" xlink:href=\"#DejaVuSans-53\"/>\r\n       <use x=\"127.246094\" xlink:href=\"#DejaVuSans-48\"/>\r\n      </g>\r\n     </g>\r\n    </g>\r\n    <g id=\"xtick_5\">\r\n     <g id=\"line2d_5\">\r\n      <g>\r\n       <use style=\"stroke:#000000;stroke-width:0.8;\" x=\"304.31095\" xlink:href=\"#m0760be7152\" y=\"96.08269\"/>\r\n      </g>\r\n     </g>\r\n     <g id=\"text_5\">\r\n      <!-- 200 -->\r\n      <defs>\r\n       <path d=\"M 19.1875 8.296875 \r\nL 53.609375 8.296875 \r\nL 53.609375 0 \r\nL 7.328125 0 \r\nL 7.328125 8.296875 \r\nQ 12.9375 14.109375 22.625 23.890625 \r\nQ 32.328125 33.6875 34.8125 36.53125 \r\nQ 39.546875 41.84375 41.421875 45.53125 \r\nQ 43.3125 49.21875 43.3125 52.78125 \r\nQ 43.3125 58.59375 39.234375 62.25 \r\nQ 35.15625 65.921875 28.609375 65.921875 \r\nQ 23.96875 65.921875 18.8125 64.3125 \r\nQ 13.671875 62.703125 7.8125 59.421875 \r\nL 7.8125 69.390625 \r\nQ 13.765625 71.78125 18.9375 73 \r\nQ 24.125 74.21875 28.421875 74.21875 \r\nQ 39.75 74.21875 46.484375 68.546875 \r\nQ 53.21875 62.890625 53.21875 53.421875 \r\nQ 53.21875 48.921875 51.53125 44.890625 \r\nQ 49.859375 40.875 45.40625 35.40625 \r\nQ 44.1875 33.984375 37.640625 27.21875 \r\nQ 31.109375 20.453125 19.1875 8.296875 \r\nz\r\n\" id=\"DejaVuSans-50\"/>\r\n      </defs>\r\n      <g transform=\"translate(294.7672 110.681127)scale(0.1 -0.1)\">\r\n       <use xlink:href=\"#DejaVuSans-50\"/>\r\n       <use x=\"63.623047\" xlink:href=\"#DejaVuSans-48\"/>\r\n       <use x=\"127.246094\" xlink:href=\"#DejaVuSans-48\"/>\r\n      </g>\r\n     </g>\r\n    </g>\r\n   </g>\r\n   <g id=\"matplotlib.axis_2\">\r\n    <g id=\"ytick_1\">\r\n     <g id=\"line2d_6\">\r\n      <defs>\r\n       <path d=\"M 0 0 \r\nL -3.5 0 \r\n\" id=\"mf16cc280da\" style=\"stroke:#000000;stroke-width:0.8;\"/>\r\n      </defs>\r\n      <g>\r\n       <use style=\"stroke:#000000;stroke-width:0.8;\" x=\"26.925\" xlink:href=\"#mf16cc280da\" y=\"10.999219\"/>\r\n      </g>\r\n     </g>\r\n     <g id=\"text_6\">\r\n      <!-- 0 -->\r\n      <g transform=\"translate(13.5625 14.798437)scale(0.1 -0.1)\">\r\n       <use xlink:href=\"#DejaVuSans-48\"/>\r\n      </g>\r\n     </g>\r\n    </g>\r\n    <g id=\"ytick_2\">\r\n     <g id=\"line2d_7\">\r\n      <g>\r\n       <use style=\"stroke:#000000;stroke-width:0.8;\" x=\"26.925\" xlink:href=\"#mf16cc280da\" y=\"38.66864\"/>\r\n      </g>\r\n     </g>\r\n     <g id=\"text_7\">\r\n      <!-- 20 -->\r\n      <g transform=\"translate(7.2 42.467859)scale(0.1 -0.1)\">\r\n       <use xlink:href=\"#DejaVuSans-50\"/>\r\n       <use x=\"63.623047\" xlink:href=\"#DejaVuSans-48\"/>\r\n      </g>\r\n     </g>\r\n    </g>\r\n    <g id=\"ytick_3\">\r\n     <g id=\"line2d_8\">\r\n      <g>\r\n       <use style=\"stroke:#000000;stroke-width:0.8;\" x=\"26.925\" xlink:href=\"#mf16cc280da\" y=\"66.338062\"/>\r\n      </g>\r\n     </g>\r\n     <g id=\"text_8\">\r\n      <!-- 40 -->\r\n      <defs>\r\n       <path d=\"M 37.796875 64.3125 \r\nL 12.890625 25.390625 \r\nL 37.796875 25.390625 \r\nz\r\nM 35.203125 72.90625 \r\nL 47.609375 72.90625 \r\nL 47.609375 25.390625 \r\nL 58.015625 25.390625 \r\nL 58.015625 17.1875 \r\nL 47.609375 17.1875 \r\nL 47.609375 0 \r\nL 37.796875 0 \r\nL 37.796875 17.1875 \r\nL 4.890625 17.1875 \r\nL 4.890625 26.703125 \r\nz\r\n\" id=\"DejaVuSans-52\"/>\r\n      </defs>\r\n      <g transform=\"translate(7.2 70.13728)scale(0.1 -0.1)\">\r\n       <use xlink:href=\"#DejaVuSans-52\"/>\r\n       <use x=\"63.623047\" xlink:href=\"#DejaVuSans-48\"/>\r\n      </g>\r\n     </g>\r\n    </g>\r\n    <g id=\"ytick_4\">\r\n     <g id=\"line2d_9\">\r\n      <g>\r\n       <use style=\"stroke:#000000;stroke-width:0.8;\" x=\"26.925\" xlink:href=\"#mf16cc280da\" y=\"94.007483\"/>\r\n      </g>\r\n     </g>\r\n     <g id=\"text_9\">\r\n      <!-- 60 -->\r\n      <defs>\r\n       <path d=\"M 33.015625 40.375 \r\nQ 26.375 40.375 22.484375 35.828125 \r\nQ 18.609375 31.296875 18.609375 23.390625 \r\nQ 18.609375 15.53125 22.484375 10.953125 \r\nQ 26.375 6.390625 33.015625 6.390625 \r\nQ 39.65625 6.390625 43.53125 10.953125 \r\nQ 47.40625 15.53125 47.40625 23.390625 \r\nQ 47.40625 31.296875 43.53125 35.828125 \r\nQ 39.65625 40.375 33.015625 40.375 \r\nz\r\nM 52.59375 71.296875 \r\nL 52.59375 62.3125 \r\nQ 48.875 64.0625 45.09375 64.984375 \r\nQ 41.3125 65.921875 37.59375 65.921875 \r\nQ 27.828125 65.921875 22.671875 59.328125 \r\nQ 17.53125 52.734375 16.796875 39.40625 \r\nQ 19.671875 43.65625 24.015625 45.921875 \r\nQ 28.375 48.1875 33.59375 48.1875 \r\nQ 44.578125 48.1875 50.953125 41.515625 \r\nQ 57.328125 34.859375 57.328125 23.390625 \r\nQ 57.328125 12.15625 50.6875 5.359375 \r\nQ 44.046875 -1.421875 33.015625 -1.421875 \r\nQ 20.359375 -1.421875 13.671875 8.265625 \r\nQ 6.984375 17.96875 6.984375 36.375 \r\nQ 6.984375 53.65625 15.1875 63.9375 \r\nQ 23.390625 74.21875 37.203125 74.21875 \r\nQ 40.921875 74.21875 44.703125 73.484375 \r\nQ 48.484375 72.75 52.59375 71.296875 \r\nz\r\n\" id=\"DejaVuSans-54\"/>\r\n      </defs>\r\n      <g transform=\"translate(7.2 97.806702)scale(0.1 -0.1)\">\r\n       <use xlink:href=\"#DejaVuSans-54\"/>\r\n       <use x=\"63.623047\" xlink:href=\"#DejaVuSans-48\"/>\r\n      </g>\r\n     </g>\r\n    </g>\r\n   </g>\r\n   <g id=\"patch_3\">\r\n    <path d=\"M 26.925 96.08269 \r\nL 26.925 10.307483 \r\n\" style=\"fill:none;stroke:#000000;stroke-linecap:square;stroke-linejoin:miter;stroke-width:0.8;\"/>\r\n   </g>\r\n   <g id=\"patch_4\">\r\n    <path d=\"M 361.725 96.08269 \r\nL 361.725 10.307483 \r\n\" style=\"fill:none;stroke:#000000;stroke-linecap:square;stroke-linejoin:miter;stroke-width:0.8;\"/>\r\n   </g>\r\n   <g id=\"patch_5\">\r\n    <path d=\"M 26.925 96.08269 \r\nL 361.725 96.08269 \r\n\" style=\"fill:none;stroke:#000000;stroke-linecap:square;stroke-linejoin:miter;stroke-width:0.8;\"/>\r\n   </g>\r\n   <g id=\"patch_6\">\r\n    <path d=\"M 26.925 10.307483 \r\nL 361.725 10.307483 \r\n\" style=\"fill:none;stroke:#000000;stroke-linecap:square;stroke-linejoin:miter;stroke-width:0.8;\"/>\r\n   </g>\r\n  </g>\r\n </g>\r\n <defs>\r\n  <clipPath id=\"p1cb311acda\">\r\n   <rect height=\"85.775207\" width=\"334.8\" x=\"26.925\" y=\"10.307483\"/>\r\n  </clipPath>\r\n </defs>\r\n</svg>\r\n",
      "text/plain": "<Figure size 432x288 with 1 Axes>"
     },
     "metadata": {
      "needs_background": "light"
     },
     "output_type": "display_data"
    },
    {
     "name": "stdout",
     "output_type": "stream",
     "text": "tensor([5, 4, 0, 1, 2, 1, 8, 1, 0, 4])\n"
    }
   ],
   "source": [
    "# show images\n",
    "imshow(torchvision.utils.make_grid(images))\n",
    "# print labels\n",
    "print(labels)"
   ]
  },
  {
   "cell_type": "code",
   "execution_count": 23,
   "metadata": {},
   "outputs": [
    {
     "data": {
      "text/plain": "NN(\n  (fc1): Linear(in_features=784, out_features=200, bias=True)\n  (fc2): Linear(in_features=200, out_features=10, bias=True)\n)"
     },
     "execution_count": 23,
     "metadata": {},
     "output_type": "execute_result"
    }
   ],
   "source": [
    "class NN(nn.Module):\n",
    "    def __init__(self):\n",
    "        super(NN, self).__init__()\n",
    "        self.fc1 = nn.Linear(28*28, 200)\n",
    "        self.fc2 = nn.Linear(200, 10)\n",
    "\n",
    "    def forward(self, x):\n",
    "        x = x.view(x.size(0),-1)\n",
    "        x = F.relu(self.fc1(x))\n",
    "        x = self.fc2(x)\n",
    "        return x\n",
    "\n",
    "net = NN()\n",
    "net.to(device)"
   ]
  },
  {
   "cell_type": "code",
   "execution_count": 24,
   "metadata": {},
   "outputs": [],
   "source": [
    "criterion = nn.CrossEntropyLoss()\n",
    "optimizer = optim.SGD(net.parameters(), lr=0.001, momentum=0.9)"
   ]
  },
  {
   "cell_type": "code",
   "execution_count": 25,
   "metadata": {},
   "outputs": [
    {
     "name": "stdout",
     "output_type": "stream",
     "text": "[1,  2000] loss: 0.836\n[1,  4000] loss: 0.377\n[1,  6000] loss: 0.331\n[2,  2000] loss: 0.291\n[2,  4000] loss: 0.273\n[2,  6000] loss: 0.243\n[3,  2000] loss: 0.227\n[3,  4000] loss: 0.208\n[3,  6000] loss: 0.206\n[4,  2000] loss: 0.189\n[4,  4000] loss: 0.173\n[4,  6000] loss: 0.171\n[5,  2000] loss: 0.153\n[5,  4000] loss: 0.156\n[5,  6000] loss: 0.144\n[6,  2000] loss: 0.130\n[6,  4000] loss: 0.132\n[6,  6000] loss: 0.131\n[7,  2000] loss: 0.117\n[7,  4000] loss: 0.120\n[7,  6000] loss: 0.109\n[8,  2000] loss: 0.102\n[8,  4000] loss: 0.103\n[8,  6000] loss: 0.104\n[9,  2000] loss: 0.093\n[9,  4000] loss: 0.094\n[9,  6000] loss: 0.090\n[10,  2000] loss: 0.087\n[10,  4000] loss: 0.085\n[10,  6000] loss: 0.081\nFinished Training\nWall time: 3min 42s\n"
    }
   ],
   "source": [
    "%%time\n",
    "for epoch in range(10):\n",
    "    running_loss = 0.0\n",
    "    for i, data in enumerate(trainloader, 0):\n",
    "        inputs, labels = data[0].to(device), data[1].to(device)\n",
    "        optimizer.zero_grad()\n",
    "\n",
    "        outputs = net(inputs)\n",
    "        loss = criterion(outputs, labels)\n",
    "        loss.backward()\n",
    "        optimizer.step()\n",
    "\n",
    "        running_loss += loss.item()\n",
    "        if i % 2000 == 1999:    # print every 2000 mini-batches\n",
    "            print('[%d, %5d] loss: %.3f' % (epoch + 1, i + 1, running_loss / 2000))\n",
    "            running_loss = 0.0\n",
    "\n",
    "print('Finished Training')"
   ]
  },
  {
   "cell_type": "code",
   "execution_count": 26,
   "metadata": {},
   "outputs": [
    {
     "name": "stdout",
     "output_type": "stream",
     "text": "Accuracy of the network on the 10000 test images: 97 %\n"
    }
   ],
   "source": [
    "correct = 0\n",
    "total = 0\n",
    "#net.to('cpu')\n",
    "with torch.no_grad():\n",
    "    for data in testloader:\n",
    "        inputs, labels = data[0].to(device), data[1].to(device)\n",
    "        outputs = net(inputs)\n",
    "        _, predicted = torch.max(outputs.data, 1)\n",
    "        total += labels.size(0)\n",
    "        correct += (predicted == labels).sum().item()\n",
    "\n",
    "print('Accuracy of the network on the 10000 test images: %d %%' % (\n",
    "    100 * correct / total))"
   ]
  },
  {
   "cell_type": "code",
   "execution_count": null,
   "metadata": {},
   "outputs": [],
   "source": []
  },
  {
   "cell_type": "code",
   "execution_count": null,
   "metadata": {},
   "outputs": [],
   "source": [
    "\n",
    "\n",
    "\n",
    "\n",
    "\n",
    "\n",
    "\n",
    "\n",
    "\n",
    "\n",
    "\n",
    "\n",
    "\n",
    "\n",
    "\n",
    "\n",
    "\n",
    "\n",
    "\n",
    "\n",
    "\n",
    "\n",
    "\n",
    "\n",
    "\n",
    "\n",
    "\n",
    "\n",
    "\n",
    "\n",
    "\n",
    "\n",
    "\n",
    "\n",
    "\n",
    "\n",
    "\n",
    "\n",
    "\n",
    "\n",
    "\n",
    "\n",
    "\n",
    "\n",
    "\n",
    "\n",
    "\n"
   ]
  }
 ]
}